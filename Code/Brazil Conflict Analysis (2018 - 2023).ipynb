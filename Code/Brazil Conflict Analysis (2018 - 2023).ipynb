{
 "cells": [
  {
   "cell_type": "code",
   "execution_count": null,
   "id": "4f9cde5b",
   "metadata": {},
   "outputs": [],
   "source": [
    "# Import libraries\n",
    "import pandas as pd\n",
    "import folium as flm\n",
    "import matplotlib.pyplot as plt\n",
    "import matplotlib.dates as mdates\n",
    "import seaborn as sns"
   ]
  },
  {
   "cell_type": "code",
   "execution_count": null,
   "id": "619ba180",
   "metadata": {},
   "outputs": [],
   "source": [
    "# Import data\n",
    "conflicts = pd.read_csv('Brazil Political Violence and Protests Dataset.csv')\n",
    "\n",
    "# Clean data\n",
    "conflicts = conflicts.rename(columns={'EVENT_TYPE': 'CONFLICT', 'SUB_EVENT_TYPE': 'SUBCONFLICT'})\n",
    "\n",
    "# Extract year from event date column for later\n",
    "conflicts['YEAR'] = pd.to_datetime(conflicts['EVENT_DATE']).dt.year"
   ]
  },
  {
   "cell_type": "code",
   "execution_count": null,
   "id": "34777739",
   "metadata": {},
   "outputs": [],
   "source": [
    "# Explore data\n",
    "## Print first few rows and info of the data\n",
    "print(conflicts.head())\n",
    "print(conflicts.info())"
   ]
  },
  {
   "cell_type": "code",
   "execution_count": null,
   "id": "b35d7d93",
   "metadata": {},
   "outputs": [],
   "source": [
    "# Print unique conflict and subconflict types\n",
    "conflict_types = conflicts['CONFLICT'].unique()\n",
    "subconflict_types = conflicts['SUBCONFLICT'].unique()\n",
    "print(conflict_types)\n",
    "print(subconflict_types)"
   ]
  },
  {
   "cell_type": "code",
   "execution_count": null,
   "id": "e2c2f14c",
   "metadata": {},
   "outputs": [],
   "source": [
    "# Get value counts of conflict types\n",
    "conflict_counts = conflicts['CONFLICT'].value_counts()\n",
    "\n",
    "# Calculate percentage of each conflict type\n",
    "conflict_p = round(conflict_counts / conflict_counts.sum() * 100,2).astype(str) + '%'\n",
    "\n",
    "# Combine count and percentage into a dataframe\n",
    "conflict_pc = pd.DataFrame({'COUNT': conflict_counts, 'PERCENTAGE': conflict_p})\n",
    "\n",
    "# Rename the index column\n",
    "conflict_pc = conflict_pc.rename_axis('CONFLICT TYPE')\n",
    "\n",
    "# Create pie chart\n",
    "plt.pie(conflict_counts, labels=conflict_counts.index, autopct='%1.1f%%')\n",
    "plt.title('Main Conflict Types')\n",
    "\n",
    "# Display the plot\n",
    "plt.show()\n",
    "\n",
    "# Display the conflict stats\n",
    "print(conflict_pc)"
   ]
  },
  {
   "cell_type": "code",
   "execution_count": null,
   "id": "519d8d82",
   "metadata": {},
   "outputs": [],
   "source": [
    "# Get value counts of subconflict types\n",
    "subconflict_counts = conflicts['SUBCONFLICT'].value_counts()\n",
    "\n",
    "# Calculate percentage of each subconflict type\n",
    "subconflict_p = round(subconflict_counts / subconflict_counts.sum() * 100,2).astype(str) + '%'\n",
    "\n",
    "# Combine count and percentage into a dataframe\n",
    "subconflict_pc = pd.DataFrame({'COUNT': subconflict_counts, 'PERCENTAGE': subconflict_p})\n",
    "\n",
    "# Rename the index column\n",
    "subconflict_pc = subconflict_pc.rename_axis('SUBCONFLICT TYPE')\n",
    "\n",
    "# No pie chart because there are too many categories\n",
    "\n",
    "# Display the conflict stats\n",
    "print(subconflict_pc)"
   ]
  },
  {
   "cell_type": "code",
   "execution_count": null,
   "id": "c18ff9f3",
   "metadata": {},
   "outputs": [],
   "source": [
    "# Group conflicts by year and event type\n",
    "conflict_counts = conflicts.groupby(['YEAR', 'CONFLICT']).size().reset_index(name='COUNT')\n",
    "\n",
    "# Create pivot table with year as rows and event types as columns\n",
    "pivot_table = conflict_counts.pivot_table(index='CONFLICT', columns='YEAR', values='COUNT', aggfunc='sum')\n",
    "\n",
    "# Create heatmap using seaborn\n",
    "plt.figure(figsize=(12,8))\n",
    "sns.heatmap(pivot_table, cmap='Blues', annot=True, fmt='d', linecolor='black', linewidths=1)\n",
    "plt.title('Number of Main Conflicts by Year')\n",
    "plt.show()"
   ]
  },
  {
   "cell_type": "code",
   "execution_count": null,
   "id": "c23b34d7",
   "metadata": {},
   "outputs": [],
   "source": [
    "# Print total number of fatalities\n",
    "total_fatalities = conflicts['FATALITIES'].sum()\n",
    "print(f'Total number of fatalities: {total_fatalities:,}')"
   ]
  },
  {
   "cell_type": "code",
   "execution_count": null,
   "id": "13fc3407",
   "metadata": {},
   "outputs": [],
   "source": [
    "# Group by year and total fatalities\n",
    "fat_by_year = conflicts.groupby('YEAR')['FATALITIES'].sum()\n",
    "\n",
    "# Create datetime objects for x-axis\n",
    "x = [mdates.datetime.datetime(year, 1, 1) for year in fat_by_year.index]\n",
    "\n",
    "# Plot line chart\n",
    "fig, ax = plt.subplots()\n",
    "ax.plot_date(x, fat_by_year.values, linestyle='--')\n",
    "\n",
    "# Format x-axis as years\n",
    "ax.xaxis.set_major_locator(mdates.YearLocator())\n",
    "ax.xaxis.set_major_formatter(mdates.DateFormatter('%Y'))\n",
    "\n",
    "# Label axes and title\n",
    "plt.xlabel('YEAR')\n",
    "plt.ylabel('FATALITIES')\n",
    "plt.title('Number of Fatalities by Year')\n",
    "\n",
    "# Add the number of fatalities to each plot point\n",
    "for i, j in enumerate(fat_by_year.values):\n",
    "    ax.text(x[i], j, str(j), ha='center', va='bottom', weight='bold')\n",
    "\n",
    "plt.show()"
   ]
  },
  {
   "cell_type": "code",
   "execution_count": null,
   "id": "acd844c5",
   "metadata": {
    "scrolled": true
   },
   "outputs": [],
   "source": [
    "# create pivot table for num of fatalities by main conflict by year\n",
    "pivot_table2 = conflicts.pivot_table(index='CONFLICT', columns='YEAR', values='FATALITIES', aggfunc=sum)\n",
    "\n",
    "# Create heatmap using seaborn\n",
    "plt.figure(figsize=(12,8))\n",
    "sns.heatmap(pivot_table2, cmap='Reds', annot=True, fmt='d', linecolor='black', linewidths=1)\n",
    "plt.title('Number of Fatalities by Main Conflict and Year')\n",
    "plt.show()"
   ]
  },
  {
   "cell_type": "code",
   "execution_count": null,
   "id": "6e6f7c5b",
   "metadata": {},
   "outputs": [],
   "source": [
    "# Group data fatalities by conflict type\n",
    "fat_by_conflict_type = conflicts.groupby('CONFLICT')['FATALITIES'].sum().reset_index()\n",
    "fat_count = fat_by_conflict_type['FATALITIES'].sum()\n",
    "fat_by_conflict_type['FATALITY_PERCENTAGE'] = round(fat_by_conflict_type['FATALITIES'] / fat_count * 100, 2).astype(str) + '%'\n",
    "\n",
    "# Plot bar chart of fatalities by conflict type\n",
    "plt.bar(fat_by_conflict_type['CONFLICT'], fat_by_conflict_type['FATALITIES'])\n",
    "plt.xticks(rotation=90)\n",
    "plt.xlabel('Conflict Type')\n",
    "plt.ylabel('Fatalities')\n",
    "plt.title('Number of Fatalities by Conflict')\n",
    "for i, j in enumerate(fat_by_conflict_type['FATALITIES']):\n",
    "    plt.text(i, j, str(j), ha='center', va='bottom')\n",
    "plt.show()\n",
    "\n",
    "print(fat_by_conflict_type)"
   ]
  },
  {
   "cell_type": "code",
   "execution_count": null,
   "id": "f390758f",
   "metadata": {},
   "outputs": [],
   "source": [
    "# Group fatalities by subconflict type\n",
    "fat_by_subconflict_type = conflicts.groupby('SUBCONFLICT')['FATALITIES'].sum().reset_index()\n",
    "fat_count_sub = fat_by_subconflict_type['FATALITIES'].sum()\n",
    "fat_by_subconflict_type['FATALITY_PERCENTAGE'] = round(fat_by_subconflict_type['FATALITIES'] / fat_count_sub * 100, 2).astype(str) + '%'\n",
    "\n",
    "# Plot bar chart of fatalities by subconflict type\n",
    "plt.bar(fat_by_subconflict_type['SUBCONFLICT'], fat_by_subconflict_type['FATALITIES'])\n",
    "plt.xticks(rotation=90)\n",
    "plt.xlabel('Subconflict Type')\n",
    "plt.ylabel('Fatalities')\n",
    "plt.title('Number of Fatalities by Subconflict')\n",
    "for i, j in enumerate(fat_by_subconflict_type['FATALITIES']):\n",
    "    plt.text(i, j, str(j), ha='center', va='bottom')\n",
    "plt.show()\n",
    "\n",
    "print(fat_by_subconflict_type)"
   ]
  },
  {
   "cell_type": "code",
   "execution_count": null,
   "id": "bb9413cd",
   "metadata": {
    "scrolled": false
   },
   "outputs": [],
   "source": [
    "# Group top 10 locations with the most fatalities\n",
    "top_ten_fat = conflicts.groupby('LOCATION')['FATALITIES'].sum().nlargest(10)  \n",
    "\n",
    "# Create a map centered on Brazil using country capital's lat and long\n",
    "map = flm.Map(location=[-10.788497,-42.879873], zoom_start=4.2)\n",
    "\n",
    "# Create a marker for each city in the top 10\n",
    "for city, fatalities in top_ten_fat.items():\n",
    "    # get lat and long for each city\n",
    "    city_rows = conflicts.loc[conflicts['LOCATION'] == city, ['LATITUDE', 'LONGITUDE']]\n",
    "    if not city_rows.empty:\n",
    "        lat, long = city_rows.iloc[0]\n",
    "        \n",
    "        # convert lat and long to floats\n",
    "        lat = float(lat)\n",
    "        long = float(long)\n",
    "\n",
    "        # create marker for city with bold text\n",
    "        popup_str = \"<strong>{}</strong><br>{} fatalities\".format(city, fatalities)\n",
    "        flm.Marker(location=[lat, long],\n",
    "                      popup=popup_str,\n",
    "                      icon=flm.Icon(color='red', icon='info-sign')).add_to(map)\n",
    "    \n",
    "# Save the map as an HTML file\n",
    "map.save('top_fatalities.html')\n",
    "map"
   ]
  },
  {
   "cell_type": "code",
   "execution_count": null,
   "id": "ce7ffb2b",
   "metadata": {},
   "outputs": [],
   "source": [
    "# Export data tables\n",
    "conflict_pc.to_csv('Breakdown of Types of Main Conflicts.csv', index=True)\n",
    "subconflict_pc.to_csv('Breakdown of Types of Subconflicts.csv', index=True)\n",
    "fat_by_conflict_type.to_csv('Fatalities by Main Conflict Type.csv', index=False)\n",
    "fat_by_subconflict_type.to_csv('Fatalities by Subconflict Type.csv', index=False)\n",
    "top_ten_fat.to_csv('Top 10 Locations with the Highest Fatalities.csv', index=False)        "
   ]
  }
 ],
 "metadata": {
  "kernelspec": {
   "display_name": "Python 3 (ipykernel)",
   "language": "python",
   "name": "python3"
  },
  "language_info": {
   "codemirror_mode": {
    "name": "ipython",
    "version": 3
   },
   "file_extension": ".py",
   "mimetype": "text/x-python",
   "name": "python",
   "nbconvert_exporter": "python",
   "pygments_lexer": "ipython3",
   "version": "3.9.13"
  }
 },
 "nbformat": 4,
 "nbformat_minor": 5
}
